{
 "cells": [
  {
   "cell_type": "code",
   "execution_count": 1,
   "id": "e4cb2281",
   "metadata": {},
   "outputs": [],
   "source": [
    "import pandas as pd\n",
    "import seaborn as sns\n",
    "import matplotlib.pyplot as plt\n",
    "from sklearn.feature_extraction import DictVectorizer\n",
    "from sklearn.linear_model import LinearRegression\n",
    "from sklearn.metrics import mean_squared_error"
   ]
  },
  {
   "cell_type": "code",
   "execution_count": 17,
   "id": "9e1f7fdf",
   "metadata": {},
   "outputs": [],
   "source": [
    "df_train=pd.read_parquet('./data/fhv_tripdata_2021-01.parquet')"
   ]
  },
  {
   "cell_type": "code",
   "execution_count": 18,
   "id": "140724ef",
   "metadata": {},
   "outputs": [
    {
     "data": {
      "text/html": [
       "<div>\n",
       "<style scoped>\n",
       "    .dataframe tbody tr th:only-of-type {\n",
       "        vertical-align: middle;\n",
       "    }\n",
       "\n",
       "    .dataframe tbody tr th {\n",
       "        vertical-align: top;\n",
       "    }\n",
       "\n",
       "    .dataframe thead th {\n",
       "        text-align: right;\n",
       "    }\n",
       "</style>\n",
       "<table border=\"1\" class=\"dataframe\">\n",
       "  <thead>\n",
       "    <tr style=\"text-align: right;\">\n",
       "      <th></th>\n",
       "      <th>dispatching_base_num</th>\n",
       "      <th>pickup_datetime</th>\n",
       "      <th>dropOff_datetime</th>\n",
       "      <th>PUlocationID</th>\n",
       "      <th>DOlocationID</th>\n",
       "      <th>SR_Flag</th>\n",
       "      <th>Affiliated_base_number</th>\n",
       "    </tr>\n",
       "  </thead>\n",
       "  <tbody>\n",
       "    <tr>\n",
       "      <th>0</th>\n",
       "      <td>B00009</td>\n",
       "      <td>2021-01-01 00:27:00</td>\n",
       "      <td>2021-01-01 00:44:00</td>\n",
       "      <td>NaN</td>\n",
       "      <td>NaN</td>\n",
       "      <td>None</td>\n",
       "      <td>B00009</td>\n",
       "    </tr>\n",
       "    <tr>\n",
       "      <th>1</th>\n",
       "      <td>B00009</td>\n",
       "      <td>2021-01-01 00:50:00</td>\n",
       "      <td>2021-01-01 01:07:00</td>\n",
       "      <td>NaN</td>\n",
       "      <td>NaN</td>\n",
       "      <td>None</td>\n",
       "      <td>B00009</td>\n",
       "    </tr>\n",
       "    <tr>\n",
       "      <th>2</th>\n",
       "      <td>B00013</td>\n",
       "      <td>2021-01-01 00:01:00</td>\n",
       "      <td>2021-01-01 01:51:00</td>\n",
       "      <td>NaN</td>\n",
       "      <td>NaN</td>\n",
       "      <td>None</td>\n",
       "      <td>B00013</td>\n",
       "    </tr>\n",
       "    <tr>\n",
       "      <th>3</th>\n",
       "      <td>B00037</td>\n",
       "      <td>2021-01-01 00:13:09</td>\n",
       "      <td>2021-01-01 00:21:26</td>\n",
       "      <td>NaN</td>\n",
       "      <td>72.0</td>\n",
       "      <td>None</td>\n",
       "      <td>B00037</td>\n",
       "    </tr>\n",
       "    <tr>\n",
       "      <th>4</th>\n",
       "      <td>B00037</td>\n",
       "      <td>2021-01-01 00:38:31</td>\n",
       "      <td>2021-01-01 00:53:44</td>\n",
       "      <td>NaN</td>\n",
       "      <td>61.0</td>\n",
       "      <td>None</td>\n",
       "      <td>B00037</td>\n",
       "    </tr>\n",
       "  </tbody>\n",
       "</table>\n",
       "</div>"
      ],
      "text/plain": [
       "  dispatching_base_num     pickup_datetime    dropOff_datetime  PUlocationID  \\\n",
       "0               B00009 2021-01-01 00:27:00 2021-01-01 00:44:00           NaN   \n",
       "1               B00009 2021-01-01 00:50:00 2021-01-01 01:07:00           NaN   \n",
       "2               B00013 2021-01-01 00:01:00 2021-01-01 01:51:00           NaN   \n",
       "3               B00037 2021-01-01 00:13:09 2021-01-01 00:21:26           NaN   \n",
       "4               B00037 2021-01-01 00:38:31 2021-01-01 00:53:44           NaN   \n",
       "\n",
       "   DOlocationID SR_Flag Affiliated_base_number  \n",
       "0           NaN    None                 B00009  \n",
       "1           NaN    None                 B00009  \n",
       "2           NaN    None                 B00013  \n",
       "3          72.0    None                 B00037  \n",
       "4          61.0    None                 B00037  "
      ]
     },
     "execution_count": 18,
     "metadata": {},
     "output_type": "execute_result"
    }
   ],
   "source": [
    "df_train.head()"
   ]
  },
  {
   "cell_type": "markdown",
   "id": "7a3ea0c4",
   "metadata": {},
   "source": [
    "# Question 1: Number of records in Jan 2021 FHV data\n"
   ]
  },
  {
   "cell_type": "code",
   "execution_count": 19,
   "id": "09ad6c8f",
   "metadata": {},
   "outputs": [
    {
     "data": {
      "text/plain": [
       "1154112"
      ]
     },
     "execution_count": 19,
     "metadata": {},
     "output_type": "execute_result"
    }
   ],
   "source": [
    "len(df_train)"
   ]
  },
  {
   "cell_type": "code",
   "execution_count": 21,
   "id": "3a852b75",
   "metadata": {},
   "outputs": [],
   "source": [
    "df_train.dropOff_datetime=pd.to_datetime(df_train.dropOff_datetime)\n",
    "df_train.pickup_datetime=pd.to_datetime(df_train.pickup_datetime)\n",
    "df_train['duration']=df_train.dropOff_datetime-df_train.pickup_datetime\n",
    "df_train.duration=df_train.duration.apply(lambda td: td.total_seconds()/60)"
   ]
  },
  {
   "cell_type": "markdown",
   "id": "6395097a",
   "metadata": {},
   "source": [
    "# Question 2: Average duration in Jan 2021 FHV"
   ]
  },
  {
   "cell_type": "code",
   "execution_count": 22,
   "id": "7999c62a",
   "metadata": {},
   "outputs": [
    {
     "data": {
      "text/plain": [
       "19.1672240937939"
      ]
     },
     "execution_count": 22,
     "metadata": {},
     "output_type": "execute_result"
    }
   ],
   "source": [
    "df_train.duration.mean()"
   ]
  },
  {
   "cell_type": "code",
   "execution_count": 12,
   "id": "2ffa0405",
   "metadata": {},
   "outputs": [
    {
     "data": {
      "text/plain": [
       "<seaborn.axisgrid.FacetGrid at 0x7fab5ef8e880>"
      ]
     },
     "execution_count": 12,
     "metadata": {},
     "output_type": "execute_result"
    },
    {
     "data": {
      "image/png": "[encoded data removed]",
      "text/plain": [
       "<Figure size 360x360 with 1 Axes>"
      ]
     },
     "metadata": {
      "needs_background": "light"
     },
     "output_type": "display_data"
    }
   ],
   "source": [
    "sns.displot(df_train, x=\"duration\")"
   ]
  },
  {
   "cell_type": "code",
   "execution_count": 28,
   "id": "013414ac",
   "metadata": {},
   "outputs": [
    {
     "data": {
      "text/plain": [
       "0"
      ]
     },
     "execution_count": 28,
     "metadata": {},
     "output_type": "execute_result"
    }
   ],
   "source": [
    "len(df_train[((df_train.duration<1)&(df_train.duration>60))])"
   ]
  },
  {
   "cell_type": "markdown",
   "id": "9cec52da",
   "metadata": {},
   "source": [
    "## There are no outliers"
   ]
  },
  {
   "cell_type": "code",
   "execution_count": 29,
   "id": "f6808fe7",
   "metadata": {},
   "outputs": [],
   "source": [
    "df_train=df_train[((df_train.duration>=1)&(df_train.duration<=60))]"
   ]
  },
  {
   "cell_type": "markdown",
   "id": "481855ac",
   "metadata": {},
   "source": [
    "# Question 3: Fraction of missing values"
   ]
  },
  {
   "cell_type": "code",
   "execution_count": 31,
   "id": "3573e944",
   "metadata": {},
   "outputs": [
    {
     "data": {
      "text/plain": [
       "dispatching_base_num        0.000000\n",
       "pickup_datetime             0.000000\n",
       "dropOff_datetime            0.000000\n",
       "PUlocationID               83.527328\n",
       "DOlocationID               13.327044\n",
       "SR_Flag                   100.000000\n",
       "Affiliated_base_number      0.069651\n",
       "duration                    0.000000\n",
       "dtype: float64"
      ]
     },
     "execution_count": 31,
     "metadata": {},
     "output_type": "execute_result"
    }
   ],
   "source": [
    "df_train.isnull().sum()*100/len(df_train)"
   ]
  },
  {
   "cell_type": "code",
   "execution_count": 32,
   "id": "49278259",
   "metadata": {},
   "outputs": [],
   "source": [
    "df_train.PUlocationID=df_train.PUlocationID.fillna(-1)\n",
    "df_train.DOlocationID=df_train.DOlocationID.fillna(-1)"
   ]
  },
  {
   "cell_type": "code",
   "execution_count": 35,
   "id": "7a3db1d8",
   "metadata": {},
   "outputs": [
    {
     "data": {
      "text/plain": [
       "dispatching_base_num        0.000000\n",
       "pickup_datetime             0.000000\n",
       "dropOff_datetime            0.000000\n",
       "PUlocationID                0.000000\n",
       "DOlocationID                0.000000\n",
       "SR_Flag                   100.000000\n",
       "Affiliated_base_number      0.069651\n",
       "duration                    0.000000\n",
       "dtype: float64"
      ]
     },
     "execution_count": 35,
     "metadata": {},
     "output_type": "execute_result"
    }
   ],
   "source": [
    "df_train.isnull().sum()*100/len(df_train)"
   ]
  },
  {
   "cell_type": "markdown",
   "id": "f3f6f6e4",
   "metadata": {},
   "source": [
    "# Question 4: Dimensionality after OHE"
   ]
  },
  {
   "cell_type": "code",
   "execution_count": 37,
   "id": "8763c1cb",
   "metadata": {},
   "outputs": [],
   "source": [
    "categorical=['PUlocationID','DOlocationID']\n",
    "\n",
    "dv=DictVectorizer()\n",
    "\n",
    "train_dicts=df_train[categorical].to_dict(orient='records')\n",
    "X_train=dv.fit_transform(train_dicts)"
   ]
  },
  {
   "cell_type": "code",
   "execution_count": 47,
   "id": "ac67f7a6",
   "metadata": {},
   "outputs": [
    {
     "data": {
      "text/plain": [
       "(1109826, 2)"
      ]
     },
     "execution_count": 47,
     "metadata": {},
     "output_type": "execute_result"
    }
   ],
   "source": [
    "X_train.shape"
   ]
  },
  {
   "cell_type": "markdown",
   "id": "29d93902",
   "metadata": {},
   "source": [
    "# Question 5: RMSE on train"
   ]
  },
  {
   "cell_type": "code",
   "execution_count": 48,
   "id": "8ce5283c",
   "metadata": {},
   "outputs": [],
   "source": [
    "target='duration'\n",
    "y_train=df_train[target].values"
   ]
  },
  {
   "cell_type": "code",
   "execution_count": 49,
   "id": "539604a9",
   "metadata": {},
   "outputs": [
    {
     "data": {
      "text/plain": [
       "11.415432830521663"
      ]
     },
     "execution_count": 49,
     "metadata": {},
     "output_type": "execute_result"
    }
   ],
   "source": [
    "lr=LinearRegression()\n",
    "lr.fit(X_train,y_train)\n",
    "y_pred=lr.predict(X_train)\n",
    "mean_squared_error(y_train,y_pred,squared=False)"
   ]
  },
  {
   "cell_type": "markdown",
   "id": "b014e4c4",
   "metadata": {},
   "source": [
    "# Question 6: RMSE on validation"
   ]
  },
  {
   "cell_type": "code",
   "execution_count": 66,
   "id": "4c54de82",
   "metadata": {},
   "outputs": [],
   "source": [
    "df_val=pd.read_parquet('./data/fhv_tripdata_2021-02.parquet')"
   ]
  },
  {
   "cell_type": "code",
   "execution_count": 67,
   "id": "53bf951a",
   "metadata": {},
   "outputs": [],
   "source": [
    "df_val.dropOff_datetime=pd.to_datetime(df_val.dropOff_datetime)\n",
    "df_val.pickup_datetime=pd.to_datetime(df_val.pickup_datetime)\n",
    "df_val['duration']=df_val.dropOff_datetime-df_val.pickup_datetime\n",
    "df_val.duration=df_val.duration.apply(lambda td: td.total_seconds()/60)"
   ]
  },
  {
   "cell_type": "code",
   "execution_count": 68,
   "id": "565a5055",
   "metadata": {},
   "outputs": [],
   "source": [
    "df_val=df_val[((df_val.duration>=1)&(df_val.duration<=60))]"
   ]
  },
  {
   "cell_type": "code",
   "execution_count": 69,
   "id": "849692a8",
   "metadata": {},
   "outputs": [],
   "source": [
    "df_val.PUlocationID=df_val.PUlocationID.fillna(-1)\n",
    "df_val.DOlocationID=df_val.DOlocationID.fillna(-1)"
   ]
  },
  {
   "cell_type": "code",
   "execution_count": 70,
   "id": "caafc374",
   "metadata": {},
   "outputs": [],
   "source": [
    "categorical=['PUlocationID','DOlocationID']\n",
    "\n",
    "dv=DictVectorizer()\n",
    "\n",
    "val_dicts=df_val[categorical].to_dict(orient='records')\n",
    "X_val=dv.fit_transform(val_dicts)"
   ]
  },
  {
   "cell_type": "code",
   "execution_count": 71,
   "id": "dad940c9",
   "metadata": {},
   "outputs": [],
   "source": [
    "target='duration'\n",
    "y_val=df_val[target].values"
   ]
  },
  {
   "cell_type": "code",
   "execution_count": 72,
   "id": "3b9191dc",
   "metadata": {},
   "outputs": [
    {
     "data": {
      "text/plain": [
       "11.85822362355935"
      ]
     },
     "execution_count": 72,
     "metadata": {},
     "output_type": "execute_result"
    }
   ],
   "source": [
    "lr=LinearRegression()\n",
    "lr.fit(X_train,y_train)\n",
    "y_pred=lr.predict(X_val)\n",
    "mean_squared_error(y_val,y_pred,squared=False)"
   ]
  }
 ],
 "metadata": {
  "kernelspec": {
   "display_name": "Python 3 (ipykernel)",
   "language": "python",
   "name": "python3"
  },
  "language_info": {
   "codemirror_mode": {
    "name": "ipython",
    "version": 3
   },
   "file_extension": ".py",
   "mimetype": "text/x-python",
   "name": "python",
   "nbconvert_exporter": "python",
   "pygments_lexer": "ipython3",
   "version": "3.9.12"
  }
 },
 "nbformat": 4,
 "nbformat_minor": 5
}
